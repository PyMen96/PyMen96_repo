{
 "cells": [
  {
   "cell_type": "code",
   "execution_count": 1,
   "id": "8ddc7d69",
   "metadata": {},
   "outputs": [],
   "source": [
    "import pandas as pd\n",
    "import re"
   ]
  },
  {
   "cell_type": "code",
   "execution_count": 16,
   "id": "34802c64",
   "metadata": {},
   "outputs": [],
   "source": [
    "def main():\n",
    "    chunk_size = 300000  # lines\n",
    "\n",
    "    def write_chunk(part, lines):\n",
    "        with open(r'C:\\\\Users\\\\seba_\\\\Desktop\\\\Praca_Magisterka\\\\car_dataset_divide'+ str(part) +'.csv', 'w', encoding='utf-8') as f_out:\n",
    "            f_out.write(header)\n",
    "            f_out.writelines(lines)\n",
    "\n",
    "    with open(r'C:\\\\Users\\\\seba_\\\\Desktop\\\\Praca_Magisterka\\\\used_cars_data.csv', 'r', encoding='utf-8') as f:\n",
    "        count = 0\n",
    "        header = f.readline()\n",
    "        lines = []\n",
    "        for line in f:\n",
    "            count += 1\n",
    "            lines.append(line)\n",
    "            if count % chunk_size == 0:\n",
    "                write_chunk(count // chunk_size, lines)\n",
    "                lines = []\n",
    "        # write remainder\n",
    "        if len(lines) > 0:\n",
    "            write_chunk((count // chunk_size) + 1, lines)\n",
    "\n",
    "if __name__ == '__main__':\n",
    "    main()"
   ]
  },
  {
   "cell_type": "code",
   "execution_count": null,
   "id": "9ad18787",
   "metadata": {},
   "outputs": [],
   "source": []
  },
  {
   "cell_type": "code",
   "execution_count": null,
   "id": "30ec959b",
   "metadata": {},
   "outputs": [],
   "source": []
  }
 ],
 "metadata": {
  "kernelspec": {
   "display_name": "Python 3 (ipykernel)",
   "language": "python",
   "name": "python3"
  },
  "language_info": {
   "codemirror_mode": {
    "name": "ipython",
    "version": 3
   },
   "file_extension": ".py",
   "mimetype": "text/x-python",
   "name": "python",
   "nbconvert_exporter": "python",
   "pygments_lexer": "ipython3",
   "version": "3.9.12"
  }
 },
 "nbformat": 4,
 "nbformat_minor": 5
}
